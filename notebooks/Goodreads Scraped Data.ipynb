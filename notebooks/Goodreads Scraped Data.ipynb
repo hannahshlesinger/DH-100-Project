{
 "cells": [
  {
   "cell_type": "code",
   "execution_count": 2,
   "id": "a0bb9641",
   "metadata": {},
   "outputs": [
    {
     "name": "stdout",
     "output_type": "stream",
     "text": [
      "Current working directory: /Users/hannahshlesinger/Desktop/DIGHUM101-2021-main/Final Project\n",
      "os.getcwd() returns an object of type: <class 'str'>\n"
     ]
    }
   ],
   "source": [
    "# Import the os module\n",
    "import os\n",
    "\n",
    "#install requirements \n",
    "#!pip install -r requirements.txt\n",
    "\n",
    "# Get the current working directory\n",
    "cwd = os.getcwd()\n",
    "\n",
    "# Print the current working directory\n",
    "print(\"Current working directory: {0}\".format(cwd))\n",
    "\n",
    "# Print the type of the returned object\n",
    "print(\"os.getcwd() returns an object of type: {0}\".format(type(cwd)))"
   ]
  },
  {
   "cell_type": "code",
   "execution_count": 3,
   "id": "a67ce59e",
   "metadata": {},
   "outputs": [],
   "source": [
    "os.chdir(\"goodreads-scraper-master\")"
   ]
  },
  {
   "cell_type": "code",
   "execution_count": 4,
   "id": "094e6a71",
   "metadata": {},
   "outputs": [
    {
     "name": "stdout",
     "output_type": "stream",
     "text": [
      "\u001b[34mData\u001b[m\u001b[m/                               most_common_reviews_df.csv\r\n",
      "\u001b[31mHow-To-Use-Goodreads-Scraper.ipynb\u001b[m\u001b[m* \u001b[31mmost_popular_classics.txt\u001b[m\u001b[m*\r\n",
      "\u001b[31mLICENSE\u001b[m\u001b[m*                            \u001b[31mrequirements.txt\u001b[m\u001b[m*\r\n",
      "\u001b[31mREADME.md\u001b[m\u001b[m*                          rupi_kaur.txt\r\n",
      "all_goodreads_reviews.csv           \u001b[34mrupi_kaur_metadata\u001b[m\u001b[m/\r\n",
      "\u001b[34mclassic_book_metadata\u001b[m\u001b[m/              \u001b[34mrupi_kaur_reviews\u001b[m\u001b[m/\r\n",
      "geckodriver.log                     sample.pdf\r\n",
      "\u001b[31mget_books.py\u001b[m\u001b[m*                       save_as_a_png.png\r\n",
      "\u001b[31mget_reviews.py\u001b[m\u001b[m*                     \u001b[31mtest_book_ids.txt\u001b[m\u001b[m*\r\n",
      "\u001b[31mgoodreads_classics.txt\u001b[m\u001b[m*             \u001b[31mtest_scripts.sh\u001b[m\u001b[m*\r\n",
      "\u001b[31mgoodreads_classics_sample.txt\u001b[m\u001b[m*      user_ratings.png\r\n",
      "goodreads_reviews_df.png\r\n"
     ]
    }
   ],
   "source": [
    "ls"
   ]
  },
  {
   "cell_type": "code",
   "execution_count": 5,
   "id": "5b1af18a",
   "metadata": {},
   "outputs": [
    {
     "name": "stdout",
     "output_type": "stream",
     "text": [
      "23513349.milk-and-honey\r\n",
      "35606560.the-sun-and-her-flowers\r\n",
      "49656780.home-body"
     ]
    }
   ],
   "source": [
    "!cat rupi_kaur.txt"
   ]
  },
  {
   "cell_type": "code",
   "execution_count": 6,
   "id": "2d2dbf56",
   "metadata": {},
   "outputs": [
    {
     "name": "stdout",
     "output_type": "stream",
     "text": [
      "mkdir: rupi_kaur_metadata: File exists\r\n"
     ]
    }
   ],
   "source": [
    "!mkdir rupi_kaur_metadata"
   ]
  },
  {
   "cell_type": "code",
   "execution_count": 7,
   "id": "2dda54c9",
   "metadata": {},
   "outputs": [
    {
     "name": "stdout",
     "output_type": "stream",
     "text": [
      "2021-06-30 11:27:59.494786 get_books.py:\r\n",
      "\r\n",
      "🎉 Success! All book metadata scraped. 🎉\r\n",
      "\r\n",
      "Metadata files have been output to /rupi_kaur_metadata\r\n",
      "Goodreads scraping run time = ⏰ 0:00:00.040338 ⏰\r\n"
     ]
    }
   ],
   "source": [
    "!python get_books.py --book_ids_path rupi_kaur.txt --output_directory_path rupi_kaur_metadata --format csv"
   ]
  },
  {
   "cell_type": "code",
   "execution_count": 8,
   "id": "3d14015b",
   "metadata": {},
   "outputs": [],
   "source": [
    "import pandas as pd"
   ]
  },
  {
   "cell_type": "code",
   "execution_count": 9,
   "id": "e05d6289",
   "metadata": {
    "scrolled": false
   },
   "outputs": [
    {
     "data": {
      "text/html": [
       "<div>\n",
       "<style scoped>\n",
       "    .dataframe tbody tr th:only-of-type {\n",
       "        vertical-align: middle;\n",
       "    }\n",
       "\n",
       "    .dataframe tbody tr th {\n",
       "        vertical-align: top;\n",
       "    }\n",
       "\n",
       "    .dataframe thead th {\n",
       "        text-align: right;\n",
       "    }\n",
       "</style>\n",
       "<table border=\"1\" class=\"dataframe\">\n",
       "  <thead>\n",
       "    <tr style=\"text-align: right;\">\n",
       "      <th></th>\n",
       "      <th>book_id_title</th>\n",
       "      <th>book_id</th>\n",
       "      <th>book_title</th>\n",
       "      <th>book_series</th>\n",
       "      <th>book_series_uri</th>\n",
       "      <th>isbn</th>\n",
       "      <th>isbn13</th>\n",
       "      <th>year_first_published</th>\n",
       "      <th>author</th>\n",
       "      <th>num_pages</th>\n",
       "      <th>genres</th>\n",
       "      <th>shelves</th>\n",
       "      <th>lists</th>\n",
       "      <th>num_ratings</th>\n",
       "      <th>num_reviews</th>\n",
       "      <th>average_rating</th>\n",
       "      <th>rating_distribution</th>\n",
       "    </tr>\n",
       "  </thead>\n",
       "  <tbody>\n",
       "    <tr>\n",
       "      <th>0</th>\n",
       "      <td>35606560.the-sun-and-her-flowers</td>\n",
       "      <td>35606560</td>\n",
       "      <td>The Sun and Her Flowers</td>\n",
       "      <td>NaN</td>\n",
       "      <td>NaN</td>\n",
       "      <td>6070751981</td>\n",
       "      <td>9786070751981</td>\n",
       "      <td>NaN</td>\n",
       "      <td>Rupi Kaur</td>\n",
       "      <td>256</td>\n",
       "      <td>['Poetry', 'Feminism', 'Nonfiction', 'Adult', ...</td>\n",
       "      <td>{'to-read': 222172, 'currently-reading': 16427...</td>\n",
       "      <td>{'Varied': 348, 'What': 164, 'Best': 0, 'Books...</td>\n",
       "      <td>182614</td>\n",
       "      <td>12227</td>\n",
       "      <td>4.14</td>\n",
       "      <td>{'5 Stars': 86784, '4 Stars': 53573, '3 Stars'...</td>\n",
       "    </tr>\n",
       "    <tr>\n",
       "      <th>1</th>\n",
       "      <td>49656780.home-body</td>\n",
       "      <td>49656780</td>\n",
       "      <td>Home Body</td>\n",
       "      <td>NaN</td>\n",
       "      <td>NaN</td>\n",
       "      <td>1449486800</td>\n",
       "      <td>9781449486808</td>\n",
       "      <td>NaN</td>\n",
       "      <td>Rupi Kaur</td>\n",
       "      <td>192</td>\n",
       "      <td>['Poetry', 'Feminism', 'Nonfiction', 'Adult', ...</td>\n",
       "      <td>{'to-read': 37144, 'currently-reading': 2446, ...</td>\n",
       "      <td>{'Popsugar': 32, 'What': 202, 'Home': 51, 'Bes...</td>\n",
       "      <td>31381</td>\n",
       "      <td>3625</td>\n",
       "      <td>4.09</td>\n",
       "      <td>{'5 Stars': 13334, '4 Stars': 10176, '3 Stars'...</td>\n",
       "    </tr>\n",
       "    <tr>\n",
       "      <th>2</th>\n",
       "      <td>23513349.milk-and-honey</td>\n",
       "      <td>23513349</td>\n",
       "      <td>Milk and Honey</td>\n",
       "      <td>NaN</td>\n",
       "      <td>NaN</td>\n",
       "      <td>8467049022</td>\n",
       "      <td>9781449474256</td>\n",
       "      <td>NaN</td>\n",
       "      <td>Rupi Kaur</td>\n",
       "      <td>204</td>\n",
       "      <td>['Poetry', 'Feminism', 'Nonfiction', 'Contempo...</td>\n",
       "      <td>{'to-read': 360785, 'currently-reading': 27695...</td>\n",
       "      <td>{'Varied': 348, 'Best': 106, 'What': 38, 'Poet...</td>\n",
       "      <td>413398</td>\n",
       "      <td>31127</td>\n",
       "      <td>4.05</td>\n",
       "      <td>{'5 Stars': 194052, '4 Stars': 108756, '3 Star...</td>\n",
       "    </tr>\n",
       "  </tbody>\n",
       "</table>\n",
       "</div>"
      ],
      "text/plain": [
       "                      book_id_title   book_id               book_title  \\\n",
       "0  35606560.the-sun-and-her-flowers  35606560  The Sun and Her Flowers   \n",
       "1                49656780.home-body  49656780                Home Body   \n",
       "2           23513349.milk-and-honey  23513349           Milk and Honey   \n",
       "\n",
       "   book_series  book_series_uri        isbn         isbn13  \\\n",
       "0          NaN              NaN  6070751981  9786070751981   \n",
       "1          NaN              NaN  1449486800  9781449486808   \n",
       "2          NaN              NaN  8467049022  9781449474256   \n",
       "\n",
       "   year_first_published     author  num_pages  \\\n",
       "0                   NaN  Rupi Kaur        256   \n",
       "1                   NaN  Rupi Kaur        192   \n",
       "2                   NaN  Rupi Kaur        204   \n",
       "\n",
       "                                              genres  \\\n",
       "0  ['Poetry', 'Feminism', 'Nonfiction', 'Adult', ...   \n",
       "1  ['Poetry', 'Feminism', 'Nonfiction', 'Adult', ...   \n",
       "2  ['Poetry', 'Feminism', 'Nonfiction', 'Contempo...   \n",
       "\n",
       "                                             shelves  \\\n",
       "0  {'to-read': 222172, 'currently-reading': 16427...   \n",
       "1  {'to-read': 37144, 'currently-reading': 2446, ...   \n",
       "2  {'to-read': 360785, 'currently-reading': 27695...   \n",
       "\n",
       "                                               lists  num_ratings  \\\n",
       "0  {'Varied': 348, 'What': 164, 'Best': 0, 'Books...       182614   \n",
       "1  {'Popsugar': 32, 'What': 202, 'Home': 51, 'Bes...        31381   \n",
       "2  {'Varied': 348, 'Best': 106, 'What': 38, 'Poet...       413398   \n",
       "\n",
       "   num_reviews  average_rating  \\\n",
       "0        12227            4.14   \n",
       "1         3625            4.09   \n",
       "2        31127            4.05   \n",
       "\n",
       "                                 rating_distribution  \n",
       "0  {'5 Stars': 86784, '4 Stars': 53573, '3 Stars'...  \n",
       "1  {'5 Stars': 13334, '4 Stars': 10176, '3 Stars'...  \n",
       "2  {'5 Stars': 194052, '4 Stars': 108756, '3 Star...  "
      ]
     },
     "execution_count": 9,
     "metadata": {},
     "output_type": "execute_result"
    }
   ],
   "source": [
    "metadata = pd.read_csv(\"rupi_kaur_metadata/all_books.csv\")\n",
    "metadata"
   ]
  },
  {
   "cell_type": "code",
   "execution_count": 10,
   "id": "ba21f17c",
   "metadata": {},
   "outputs": [
    {
     "data": {
      "text/plain": [
       "RangeIndex(start=0, stop=3, step=1)"
      ]
     },
     "execution_count": 10,
     "metadata": {},
     "output_type": "execute_result"
    }
   ],
   "source": [
    "metadata.index"
   ]
  },
  {
   "cell_type": "code",
   "execution_count": 10,
   "id": "d0f1466a",
   "metadata": {},
   "outputs": [
    {
     "data": {
      "text/plain": [
       "<AxesSubplot:ylabel='book_title'>"
      ]
     },
     "execution_count": 10,
     "metadata": {},
     "output_type": "execute_result"
    },
    {
     "data": {
      "image/png": "[encoded data removed]",
      "text/plain": [
       "<Figure size 432x288 with 1 Axes>"
      ]
     },
     "metadata": {
      "needs_background": "light"
     },
     "output_type": "display_data"
    }
   ],
   "source": [
    "metadata.sort_values(by='num_ratings').plot(x='book_title', y='num_ratings', kind='barh')"
   ]
  },
  {
   "cell_type": "code",
   "execution_count": 11,
   "id": "b7b8c5db",
   "metadata": {},
   "outputs": [
    {
     "name": "stdout",
     "output_type": "stream",
     "text": [
      "mkdir: rupi_kaur_reviews: File exists\r\n"
     ]
    }
   ],
   "source": [
    "!mkdir rupi_kaur_reviews"
   ]
  },
  {
   "cell_type": "code",
   "execution_count": 12,
   "id": "a193537b",
   "metadata": {
    "scrolled": true
   },
   "outputs": [
    {
     "name": "stdout",
     "output_type": "stream",
     "text": [
      "2021-06-20 18:31:55.387898 get_reviews.py: Scraping 23513349.milk-and-honey...\n",
      "2021-06-20 18:31:55.387964 get_reviews.py: #1 out of 3 books\n",
      "Scraped page 1\n",
      "🚨 ElementClickInterceptedException (Likely a pop-up)🚨\n",
      "🔄 Refreshing Goodreads site and rescraping book🔄\n",
      "Scraped page 1\n",
      "Scraped page 2\n",
      "Scraped page 3\n",
      "🚨 ElementClickInterceptedException (Likely a pop-up)🚨\n",
      "🔄 Refreshing Goodreads site and skipping problem page 4🔄\n",
      "Scraped page 5\n",
      "🚨 ElementClickInterceptedException (Likely a pop-up)🚨\n",
      "🔄 Refreshing Goodreads site and skipping problem page 6🔄\n",
      "Scraped page 7\n",
      "Scraped page 8\n",
      "🚨 ElementClickInterceptedException (Likely a pop-up)🚨\n",
      "🔄 Refreshing Goodreads site and skipping problem page 9🔄\n",
      "🚨 ElementClickInterceptedException (Likely a pop-up)🚨\n",
      "🔄 Refreshing Goodreads site and skipping problem page 10🔄\n",
      "2021-06-20 18:33:16.322603 get_reviews.py: Scraped ✨180✨ reviews for 23513349.milk-and-honey\n",
      "=============================\n",
      "2021-06-20 18:33:16.329321 get_reviews.py: Scraping 35606560.the-sun-and-her-flowers...\n",
      "2021-06-20 18:33:16.329336 get_reviews.py: #2 out of 3 books\n",
      "Scraped page 1\n",
      "Scraped page 2\n",
      "🚨 ElementClickInterceptedException (Likely a pop-up)🚨\n",
      "🔄 Refreshing Goodreads site and skipping problem page 3🔄\n",
      "Scraped page 4\n",
      "🚨 ElementClickInterceptedException (Likely a pop-up)🚨\n",
      "🔄 Refreshing Goodreads site and skipping problem page 5🔄\n",
      "Scraped page 6\n",
      "🚨 ElementClickInterceptedException (Likely a pop-up)🚨\n",
      "🔄 Refreshing Goodreads site and skipping problem page 7🔄\n",
      "Scraped page 8\n",
      "🚨 ElementClickInterceptedException (Likely a pop-up)🚨\n",
      "🔄 Refreshing Goodreads site and skipping problem page 9🔄\n",
      "🚨 ElementClickInterceptedException (Likely a pop-up)🚨\n",
      "🔄 Refreshing Goodreads site and skipping problem page 10🔄\n",
      "2021-06-20 18:34:38.581093 get_reviews.py: Scraped ✨150✨ reviews for 35606560.the-sun-and-her-flowers\n",
      "=============================\n",
      "2021-06-20 18:34:38.585935 get_reviews.py: Scraping 49656780.home-body...\n",
      "2021-06-20 18:34:38.585957 get_reviews.py: #3 out of 3 books\n",
      "Scraped page 1\n",
      "Scraped page 2\n",
      "Scraped page 3\n",
      "Scraped page 4\n",
      "Scraped page 5\n",
      "Scraped page 6\n",
      "Scraped page 7\n",
      "Scraped page 8\n",
      "Scraped page 9\n",
      "Scraped page 10\n",
      "2021-06-20 18:35:30.869725 get_reviews.py: Scraped ✨300✨ reviews for 49656780.home-body\n",
      "=============================\n",
      "2021-06-20 18:35:32.100252 get_reviews.py:\n",
      "\n",
      "🎉 Success! All book reviews scraped. 🎉\n",
      "\n",
      "Goodreads review files have been output to /rupi_kaur_reviews\n",
      "Goodreads scraping run time = ⏰ 0:03:42.868271 ⏰\n"
     ]
    }
   ],
   "source": [
    "!python get_reviews.py --book_ids_path rupi_kaur.txt \\\n",
    "--output_directory_path rupi_kaur_reviews --sort_order default --browser firefox"
   ]
  },
  {
   "cell_type": "code",
   "execution_count": 13,
   "id": "a1f51536",
   "metadata": {},
   "outputs": [
    {
     "data": {
      "text/html": [
       "<div>\n",
       "<style scoped>\n",
       "    .dataframe tbody tr th:only-of-type {\n",
       "        vertical-align: middle;\n",
       "    }\n",
       "\n",
       "    .dataframe tbody tr th {\n",
       "        vertical-align: top;\n",
       "    }\n",
       "\n",
       "    .dataframe thead th {\n",
       "        text-align: right;\n",
       "    }\n",
       "</style>\n",
       "<table border=\"1\" class=\"dataframe\">\n",
       "  <thead>\n",
       "    <tr style=\"text-align: right;\">\n",
       "      <th></th>\n",
       "      <th>book_id_title</th>\n",
       "      <th>book_id</th>\n",
       "      <th>book_title</th>\n",
       "      <th>review_url</th>\n",
       "      <th>review_id</th>\n",
       "      <th>date</th>\n",
       "      <th>rating</th>\n",
       "      <th>user_name</th>\n",
       "      <th>user_url</th>\n",
       "      <th>text</th>\n",
       "      <th>num_likes</th>\n",
       "      <th>sort_order</th>\n",
       "      <th>shelves</th>\n",
       "    </tr>\n",
       "  </thead>\n",
       "  <tbody>\n",
       "    <tr>\n",
       "      <th>0</th>\n",
       "      <td>35606560.the-sun-and-her-flowers</td>\n",
       "      <td>35606560</td>\n",
       "      <td>The Sun and Her Flowers</td>\n",
       "      <td>https://www.goodreads.com/review/show/2142763598</td>\n",
       "      <td>2142763598</td>\n",
       "      <td>2017-10-03</td>\n",
       "      <td>1</td>\n",
       "      <td>Megan</td>\n",
       "      <td>/user/show/72149944-megan</td>\n",
       "      <td>I don't know where to begin. Listen, as a brow...</td>\n",
       "      <td>1664</td>\n",
       "      <td>default</td>\n",
       "      <td>[]</td>\n",
       "    </tr>\n",
       "    <tr>\n",
       "      <th>1</th>\n",
       "      <td>35606560.the-sun-and-her-flowers</td>\n",
       "      <td>35606560</td>\n",
       "      <td>The Sun and Her Flowers</td>\n",
       "      <td>https://www.goodreads.com/review/show/2152685049</td>\n",
       "      <td>2152685049</td>\n",
       "      <td>2017-10-14</td>\n",
       "      <td>3</td>\n",
       "      <td>Hailey (Hailey in Bookland)</td>\n",
       "      <td>/user/show/21937982-hailey-hailey-in-bookland</td>\n",
       "      <td>*Thank you so much to Indigo for surprising me...</td>\n",
       "      <td>398</td>\n",
       "      <td>default</td>\n",
       "      <td>[]</td>\n",
       "    </tr>\n",
       "    <tr>\n",
       "      <th>2</th>\n",
       "      <td>35606560.the-sun-and-her-flowers</td>\n",
       "      <td>35606560</td>\n",
       "      <td>The Sun and Her Flowers</td>\n",
       "      <td>https://www.goodreads.com/review/show/2156632396</td>\n",
       "      <td>2156632396</td>\n",
       "      <td>2017-10-22</td>\n",
       "      <td>4</td>\n",
       "      <td>Julia Miller</td>\n",
       "      <td>/user/show/72672216-julia-miller</td>\n",
       "      <td>Rupi, you have my heart ❤️ beautifully written...</td>\n",
       "      <td>276</td>\n",
       "      <td>default</td>\n",
       "      <td>[]</td>\n",
       "    </tr>\n",
       "    <tr>\n",
       "      <th>3</th>\n",
       "      <td>35606560.the-sun-and-her-flowers</td>\n",
       "      <td>35606560</td>\n",
       "      <td>The Sun and Her Flowers</td>\n",
       "      <td>https://www.goodreads.com/review/show/2179343255</td>\n",
       "      <td>2179343255</td>\n",
       "      <td>2017-11-09</td>\n",
       "      <td>1</td>\n",
       "      <td>Brittney Andrews (beabookworm)</td>\n",
       "      <td>/user/show/36960689-brittney-andrews-beabookworm</td>\n",
       "      <td>This review was brought to you by the best Rea...</td>\n",
       "      <td>266</td>\n",
       "      <td>default</td>\n",
       "      <td>[poetry, this-makes-nickelback-sound-good]</td>\n",
       "    </tr>\n",
       "    <tr>\n",
       "      <th>4</th>\n",
       "      <td>35606560.the-sun-and-her-flowers</td>\n",
       "      <td>35606560</td>\n",
       "      <td>The Sun and Her Flowers</td>\n",
       "      <td>https://www.goodreads.com/review/show/2736305347</td>\n",
       "      <td>2736305347</td>\n",
       "      <td>2019-05-19</td>\n",
       "      <td>2</td>\n",
       "      <td>JV (semi-hiatus)</td>\n",
       "      <td>/user/show/20906165-jv-semi-hiatus</td>\n",
       "      <td>Once, there were these poems,Which my heart ca...</td>\n",
       "      <td>236</td>\n",
       "      <td>default</td>\n",
       "      <td>[2019, poetry, feminism]</td>\n",
       "    </tr>\n",
       "    <tr>\n",
       "      <th>...</th>\n",
       "      <td>...</td>\n",
       "      <td>...</td>\n",
       "      <td>...</td>\n",
       "      <td>...</td>\n",
       "      <td>...</td>\n",
       "      <td>...</td>\n",
       "      <td>...</td>\n",
       "      <td>...</td>\n",
       "      <td>...</td>\n",
       "      <td>...</td>\n",
       "      <td>...</td>\n",
       "      <td>...</td>\n",
       "      <td>...</td>\n",
       "    </tr>\n",
       "    <tr>\n",
       "      <th>625</th>\n",
       "      <td>23513349.milk-and-honey</td>\n",
       "      <td>23513349</td>\n",
       "      <td>Milk and Honey</td>\n",
       "      <td>https://www.goodreads.com/review/show/1630861493</td>\n",
       "      <td>1630861493</td>\n",
       "      <td>2016-05-06</td>\n",
       "      <td>5</td>\n",
       "      <td>Tori (InToriLex)</td>\n",
       "      <td>/user/show/10584748-tori-intorilex</td>\n",
       "      <td>Find this and other Reviews at In Tori LexThis...</td>\n",
       "      <td>17</td>\n",
       "      <td>default</td>\n",
       "      <td>[feminist-themes, poetry, favorite, giveawaywi...</td>\n",
       "    </tr>\n",
       "    <tr>\n",
       "      <th>626</th>\n",
       "      <td>23513349.milk-and-honey</td>\n",
       "      <td>23513349</td>\n",
       "      <td>Milk and Honey</td>\n",
       "      <td>https://www.goodreads.com/review/show/1756611573</td>\n",
       "      <td>1756611573</td>\n",
       "      <td>2016-09-13</td>\n",
       "      <td>4</td>\n",
       "      <td>Marnie</td>\n",
       "      <td>/user/show/33816538-marnie</td>\n",
       "      <td>Rupi Kaur is unapologetically honest, and that...</td>\n",
       "      <td>17</td>\n",
       "      <td>default</td>\n",
       "      <td>[]</td>\n",
       "    </tr>\n",
       "    <tr>\n",
       "      <th>627</th>\n",
       "      <td>23513349.milk-and-honey</td>\n",
       "      <td>23513349</td>\n",
       "      <td>Milk and Honey</td>\n",
       "      <td>https://www.goodreads.com/review/show/1890979297</td>\n",
       "      <td>1890979297</td>\n",
       "      <td>2017-01-24</td>\n",
       "      <td>1</td>\n",
       "      <td>Andjela</td>\n",
       "      <td>/user/show/14293227-andjela</td>\n",
       "      <td>\"... i was not made with a fire in my belly so...</td>\n",
       "      <td>17</td>\n",
       "      <td>default</td>\n",
       "      <td>[]</td>\n",
       "    </tr>\n",
       "    <tr>\n",
       "      <th>628</th>\n",
       "      <td>23513349.milk-and-honey</td>\n",
       "      <td>23513349</td>\n",
       "      <td>Milk and Honey</td>\n",
       "      <td>https://www.goodreads.com/review/show/2183480525</td>\n",
       "      <td>2183480525</td>\n",
       "      <td>2017-11-13</td>\n",
       "      <td>3</td>\n",
       "      <td>Samantha</td>\n",
       "      <td>/user/show/73741257-samantha</td>\n",
       "      <td>This book of poetry was amazingly written. The...</td>\n",
       "      <td>17</td>\n",
       "      <td>default</td>\n",
       "      <td>[owned, 3-stars, poetry]</td>\n",
       "    </tr>\n",
       "    <tr>\n",
       "      <th>629</th>\n",
       "      <td>23513349.milk-and-honey</td>\n",
       "      <td>23513349</td>\n",
       "      <td>Milk and Honey</td>\n",
       "      <td>https://www.goodreads.com/review/show/2065727048</td>\n",
       "      <td>2065727048</td>\n",
       "      <td>2017-12-02</td>\n",
       "      <td>5</td>\n",
       "      <td>Alaina</td>\n",
       "      <td>/user/show/50620706-alaina</td>\n",
       "      <td>Milk and Honey was my first ever poetry book. ...</td>\n",
       "      <td>17</td>\n",
       "      <td>default</td>\n",
       "      <td>[nonfiction, romance, kindle-unlimited, 2017, ...</td>\n",
       "    </tr>\n",
       "  </tbody>\n",
       "</table>\n",
       "<p>630 rows × 13 columns</p>\n",
       "</div>"
      ],
      "text/plain": [
       "                        book_id_title   book_id               book_title  \\\n",
       "0    35606560.the-sun-and-her-flowers  35606560  The Sun and Her Flowers   \n",
       "1    35606560.the-sun-and-her-flowers  35606560  The Sun and Her Flowers   \n",
       "2    35606560.the-sun-and-her-flowers  35606560  The Sun and Her Flowers   \n",
       "3    35606560.the-sun-and-her-flowers  35606560  The Sun and Her Flowers   \n",
       "4    35606560.the-sun-and-her-flowers  35606560  The Sun and Her Flowers   \n",
       "..                                ...       ...                      ...   \n",
       "625           23513349.milk-and-honey  23513349           Milk and Honey   \n",
       "626           23513349.milk-and-honey  23513349           Milk and Honey   \n",
       "627           23513349.milk-and-honey  23513349           Milk and Honey   \n",
       "628           23513349.milk-and-honey  23513349           Milk and Honey   \n",
       "629           23513349.milk-and-honey  23513349           Milk and Honey   \n",
       "\n",
       "                                           review_url   review_id       date  \\\n",
       "0    https://www.goodreads.com/review/show/2142763598  2142763598 2017-10-03   \n",
       "1    https://www.goodreads.com/review/show/2152685049  2152685049 2017-10-14   \n",
       "2    https://www.goodreads.com/review/show/2156632396  2156632396 2017-10-22   \n",
       "3    https://www.goodreads.com/review/show/2179343255  2179343255 2017-11-09   \n",
       "4    https://www.goodreads.com/review/show/2736305347  2736305347 2019-05-19   \n",
       "..                                                ...         ...        ...   \n",
       "625  https://www.goodreads.com/review/show/1630861493  1630861493 2016-05-06   \n",
       "626  https://www.goodreads.com/review/show/1756611573  1756611573 2016-09-13   \n",
       "627  https://www.goodreads.com/review/show/1890979297  1890979297 2017-01-24   \n",
       "628  https://www.goodreads.com/review/show/2183480525  2183480525 2017-11-13   \n",
       "629  https://www.goodreads.com/review/show/2065727048  2065727048 2017-12-02   \n",
       "\n",
       "    rating                       user_name  \\\n",
       "0        1                           Megan   \n",
       "1        3     Hailey (Hailey in Bookland)   \n",
       "2        4                    Julia Miller   \n",
       "3        1  Brittney Andrews (beabookworm)   \n",
       "4        2                JV (semi-hiatus)   \n",
       "..     ...                             ...   \n",
       "625      5                Tori (InToriLex)   \n",
       "626      4                          Marnie   \n",
       "627      1                         Andjela   \n",
       "628      3                        Samantha   \n",
       "629      5                          Alaina   \n",
       "\n",
       "                                             user_url  \\\n",
       "0                           /user/show/72149944-megan   \n",
       "1       /user/show/21937982-hailey-hailey-in-bookland   \n",
       "2                    /user/show/72672216-julia-miller   \n",
       "3    /user/show/36960689-brittney-andrews-beabookworm   \n",
       "4                  /user/show/20906165-jv-semi-hiatus   \n",
       "..                                                ...   \n",
       "625                /user/show/10584748-tori-intorilex   \n",
       "626                        /user/show/33816538-marnie   \n",
       "627                       /user/show/14293227-andjela   \n",
       "628                      /user/show/73741257-samantha   \n",
       "629                        /user/show/50620706-alaina   \n",
       "\n",
       "                                                  text  num_likes sort_order  \\\n",
       "0    I don't know where to begin. Listen, as a brow...       1664    default   \n",
       "1    *Thank you so much to Indigo for surprising me...        398    default   \n",
       "2    Rupi, you have my heart ❤️ beautifully written...        276    default   \n",
       "3    This review was brought to you by the best Rea...        266    default   \n",
       "4    Once, there were these poems,Which my heart ca...        236    default   \n",
       "..                                                 ...        ...        ...   \n",
       "625  Find this and other Reviews at In Tori LexThis...         17    default   \n",
       "626  Rupi Kaur is unapologetically honest, and that...         17    default   \n",
       "627  \"... i was not made with a fire in my belly so...         17    default   \n",
       "628  This book of poetry was amazingly written. The...         17    default   \n",
       "629  Milk and Honey was my first ever poetry book. ...         17    default   \n",
       "\n",
       "                                               shelves  \n",
       "0                                                   []  \n",
       "1                                                   []  \n",
       "2                                                   []  \n",
       "3           [poetry, this-makes-nickelback-sound-good]  \n",
       "4                             [2019, poetry, feminism]  \n",
       "..                                                 ...  \n",
       "625  [feminist-themes, poetry, favorite, giveawaywi...  \n",
       "626                                                 []  \n",
       "627                                                 []  \n",
       "628                           [owned, 3-stars, poetry]  \n",
       "629  [nonfiction, romance, kindle-unlimited, 2017, ...  \n",
       "\n",
       "[630 rows x 13 columns]"
      ]
     },
     "execution_count": 13,
     "metadata": {},
     "output_type": "execute_result"
    }
   ],
   "source": [
    "reviews_df = pd.read_json('rupi_kaur_reviews/all_reviews.json')\n",
    "reviews_df"
   ]
  },
  {
   "cell_type": "code",
   "execution_count": 14,
   "id": "f09f1815",
   "metadata": {},
   "outputs": [
    {
     "data": {
      "text/plain": [
       "Home Body                  300\n",
       "Milk and Honey             180\n",
       "The Sun and Her Flowers    150\n",
       "Name: book_title, dtype: int64"
      ]
     },
     "execution_count": 14,
     "metadata": {},
     "output_type": "execute_result"
    }
   ],
   "source": [
    "reviews_df['book_title'].value_counts()"
   ]
  },
  {
   "cell_type": "code",
   "execution_count": 15,
   "id": "52a56a57",
   "metadata": {},
   "outputs": [
    {
     "data": {
      "text/plain": [
       "630"
      ]
     },
     "execution_count": 15,
     "metadata": {},
     "output_type": "execute_result"
    }
   ],
   "source": [
    "len(reviews_df)"
   ]
  },
  {
   "cell_type": "code",
   "execution_count": 16,
   "id": "72a28a95",
   "metadata": {},
   "outputs": [
    {
     "data": {
      "text/plain": [
       "0"
      ]
     },
     "execution_count": 16,
     "metadata": {},
     "output_type": "execute_result"
    }
   ],
   "source": [
    "len(reviews_df[reviews_df[['book_title','text', 'user_name', 'user_url']].duplicated(keep=False)])"
   ]
  },
  {
   "cell_type": "code",
   "execution_count": 17,
   "id": "880d9fb2",
   "metadata": {},
   "outputs": [],
   "source": [
    "reviews_df.to_csv(\"all_goodreads_reviews.csv\", encoding ='utf-8', index=False)"
   ]
  },
  {
   "cell_type": "code",
   "execution_count": null,
   "id": "c51bfb9d",
   "metadata": {},
   "outputs": [],
   "source": []
  }
 ],
 "metadata": {
  "kernelspec": {
   "display_name": "Python 3",
   "language": "python",
   "name": "python3"
  },
  "language_info": {
   "codemirror_mode": {
    "name": "ipython",
    "version": 3
   },
   "file_extension": ".py",
   "mimetype": "text/x-python",
   "name": "python",
   "nbconvert_exporter": "python",
   "pygments_lexer": "ipython3",
   "version": "3.8.8"
  }
 },
 "nbformat": 4,
 "nbformat_minor": 5
}
