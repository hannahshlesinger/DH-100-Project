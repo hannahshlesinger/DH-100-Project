{
  "nbformat": 4,
  "nbformat_minor": 0,
  "metadata": {
    "colab": {
      "name": "Rupi-LDAmodel.ipynb",
      "provenance": []
    },
    "kernelspec": {
      "name": "python3",
      "display_name": "Python 3"
    },
    "language_info": {
      "name": "python"
    }
  },
  "cells": [
    {
      "cell_type": "markdown",
      "metadata": {
        "id": "WPLNWJkiKzoY"
      },
      "source": [
        "# LDA Modeling\n",
        "\n",
        "Analyzing the poetry of Rupi Kaur\n",
        "\n",
        "Hannah Shlesinger\n",
        "\n",
        "Dr Adam Anderson\n",
        "\n",
        "DH100 Summer 2021\n",
        "\n",
        "\n",
        "Working on LDA Model in this notebook\n"
      ]
    },
    {
      "cell_type": "code",
      "metadata": {
        "colab": {
          "base_uri": "https://localhost:8080/"
        },
        "id": "-h_TC08dBOCg",
        "outputId": "35394526-11e9-4bcf-cbc1-95bad77225df"
      },
      "source": [
        "from google.colab import drive\n",
        "drive.mount('/content/drive/')"
      ],
      "execution_count": 1,
      "outputs": [
        {
          "output_type": "stream",
          "text": [
            "Drive already mounted at /content/drive/; to attempt to forcibly remount, call drive.mount(\"/content/drive/\", force_remount=True).\n"
          ],
          "name": "stdout"
        }
      ]
    },
    {
      "cell_type": "code",
      "metadata": {
        "colab": {
          "base_uri": "https://localhost:8080/",
          "height": 204
        },
        "id": "7xavkGcJBWsO",
        "outputId": "2188b9f6-a534-4f3b-95a5-80f97ff0a120"
      },
      "source": [
        "import pandas as pd\n",
        "df = pd.read_csv('/content/drive/MyDrive/Hannah Shlesinger/Jupytr /rupi-kaur.csv')\n",
        "df.head()"
      ],
      "execution_count": 2,
      "outputs": [
        {
          "output_type": "execute_result",
          "data": {
            "text/html": [
              "<div>\n",
              "<style scoped>\n",
              "    .dataframe tbody tr th:only-of-type {\n",
              "        vertical-align: middle;\n",
              "    }\n",
              "\n",
              "    .dataframe tbody tr th {\n",
              "        vertical-align: top;\n",
              "    }\n",
              "\n",
              "    .dataframe thead th {\n",
              "        text-align: right;\n",
              "    }\n",
              "</style>\n",
              "<table border=\"1\" class=\"dataframe\">\n",
              "  <thead>\n",
              "    <tr style=\"text-align: right;\">\n",
              "      <th></th>\n",
              "      <th>Collection</th>\n",
              "      <th>Poem Number</th>\n",
              "      <th>Text</th>\n",
              "      <th>Publisher</th>\n",
              "      <th>Publish Date</th>\n",
              "    </tr>\n",
              "  </thead>\n",
              "  <tbody>\n",
              "    <tr>\n",
              "      <th>0</th>\n",
              "      <td>milk and honey</td>\n",
              "      <td>1</td>\n",
              "      <td>how is it so easy for you\\nto be kind to peopl...</td>\n",
              "      <td>Andrews McMeel Publishing</td>\n",
              "      <td>2014</td>\n",
              "    </tr>\n",
              "    <tr>\n",
              "      <th>1</th>\n",
              "      <td>milk and honey</td>\n",
              "      <td>2</td>\n",
              "      <td>the first boy that kissed me\\nheld my shoulder...</td>\n",
              "      <td>Andrews McMeel Publishing</td>\n",
              "      <td>2014</td>\n",
              "    </tr>\n",
              "    <tr>\n",
              "      <th>2</th>\n",
              "      <td>milk and honey</td>\n",
              "      <td>3</td>\n",
              "      <td>it is your blood\\nin my veins\\ntell me how i’m...</td>\n",
              "      <td>Andrews McMeel Publishing</td>\n",
              "      <td>2014</td>\n",
              "    </tr>\n",
              "    <tr>\n",
              "      <th>3</th>\n",
              "      <td>milk and honey</td>\n",
              "      <td>4</td>\n",
              "      <td>the therapist places\\nthe doll in front of you...</td>\n",
              "      <td>Andrews McMeel Publishing</td>\n",
              "      <td>2014</td>\n",
              "    </tr>\n",
              "    <tr>\n",
              "      <th>4</th>\n",
              "      <td>milk and honey</td>\n",
              "      <td>5</td>\n",
              "      <td>he was supposed to be\\nthe first male love of ...</td>\n",
              "      <td>Andrews McMeel Publishing</td>\n",
              "      <td>2014</td>\n",
              "    </tr>\n",
              "  </tbody>\n",
              "</table>\n",
              "</div>"
            ],
            "text/plain": [
              "       Collection  Poem Number  ...                  Publisher Publish Date\n",
              "0  milk and honey            1  ...  Andrews McMeel Publishing         2014\n",
              "1  milk and honey            2  ...  Andrews McMeel Publishing         2014\n",
              "2  milk and honey            3  ...  Andrews McMeel Publishing         2014\n",
              "3  milk and honey            4  ...  Andrews McMeel Publishing         2014\n",
              "4  milk and honey            5  ...  Andrews McMeel Publishing         2014\n",
              "\n",
              "[5 rows x 5 columns]"
            ]
          },
          "metadata": {
            "tags": []
          },
          "execution_count": 2
        }
      ]
    },
    {
      "cell_type": "code",
      "metadata": {
        "colab": {
          "base_uri": "https://localhost:8080/",
          "height": 419
        },
        "id": "G8JnzKEmG7zb",
        "outputId": "23fa5882-d158-4df0-b02f-d820994eb082"
      },
      "source": [
        "df.reset_index(level=None, drop=False, inplace=False, col_level=0, col_fill='')\n"
      ],
      "execution_count": 3,
      "outputs": [
        {
          "output_type": "execute_result",
          "data": {
            "text/html": [
              "<div>\n",
              "<style scoped>\n",
              "    .dataframe tbody tr th:only-of-type {\n",
              "        vertical-align: middle;\n",
              "    }\n",
              "\n",
              "    .dataframe tbody tr th {\n",
              "        vertical-align: top;\n",
              "    }\n",
              "\n",
              "    .dataframe thead th {\n",
              "        text-align: right;\n",
              "    }\n",
              "</style>\n",
              "<table border=\"1\" class=\"dataframe\">\n",
              "  <thead>\n",
              "    <tr style=\"text-align: right;\">\n",
              "      <th></th>\n",
              "      <th>index</th>\n",
              "      <th>Collection</th>\n",
              "      <th>Poem Number</th>\n",
              "      <th>Text</th>\n",
              "      <th>Publisher</th>\n",
              "      <th>Publish Date</th>\n",
              "    </tr>\n",
              "  </thead>\n",
              "  <tbody>\n",
              "    <tr>\n",
              "      <th>0</th>\n",
              "      <td>0</td>\n",
              "      <td>milk and honey</td>\n",
              "      <td>1</td>\n",
              "      <td>how is it so easy for you\\nto be kind to peopl...</td>\n",
              "      <td>Andrews McMeel Publishing</td>\n",
              "      <td>2014</td>\n",
              "    </tr>\n",
              "    <tr>\n",
              "      <th>1</th>\n",
              "      <td>1</td>\n",
              "      <td>milk and honey</td>\n",
              "      <td>2</td>\n",
              "      <td>the first boy that kissed me\\nheld my shoulder...</td>\n",
              "      <td>Andrews McMeel Publishing</td>\n",
              "      <td>2014</td>\n",
              "    </tr>\n",
              "    <tr>\n",
              "      <th>2</th>\n",
              "      <td>2</td>\n",
              "      <td>milk and honey</td>\n",
              "      <td>3</td>\n",
              "      <td>it is your blood\\nin my veins\\ntell me how i’m...</td>\n",
              "      <td>Andrews McMeel Publishing</td>\n",
              "      <td>2014</td>\n",
              "    </tr>\n",
              "    <tr>\n",
              "      <th>3</th>\n",
              "      <td>3</td>\n",
              "      <td>milk and honey</td>\n",
              "      <td>4</td>\n",
              "      <td>the therapist places\\nthe doll in front of you...</td>\n",
              "      <td>Andrews McMeel Publishing</td>\n",
              "      <td>2014</td>\n",
              "    </tr>\n",
              "    <tr>\n",
              "      <th>4</th>\n",
              "      <td>4</td>\n",
              "      <td>milk and honey</td>\n",
              "      <td>5</td>\n",
              "      <td>he was supposed to be\\nthe first male love of ...</td>\n",
              "      <td>Andrews McMeel Publishing</td>\n",
              "      <td>2014</td>\n",
              "    </tr>\n",
              "    <tr>\n",
              "      <th>...</th>\n",
              "      <td>...</td>\n",
              "      <td>...</td>\n",
              "      <td>...</td>\n",
              "      <td>...</td>\n",
              "      <td>...</td>\n",
              "      <td>...</td>\n",
              "    </tr>\n",
              "    <tr>\n",
              "      <th>577</th>\n",
              "      <td>577</td>\n",
              "      <td>the sun and her flowers</td>\n",
              "      <td>578</td>\n",
              "      <td>many try\\nbut cannot tell the difference\\nbetw...</td>\n",
              "      <td>Andrews McMeel Publishing</td>\n",
              "      <td>2017</td>\n",
              "    </tr>\n",
              "    <tr>\n",
              "      <th>578</th>\n",
              "      <td>578</td>\n",
              "      <td>the sun and her flowers</td>\n",
              "      <td>579</td>\n",
              "      <td>if you have never\\nstood with the oppressed\\nt...</td>\n",
              "      <td>Andrews McMeel Publishing</td>\n",
              "      <td>2017</td>\n",
              "    </tr>\n",
              "    <tr>\n",
              "      <th>579</th>\n",
              "      <td>579</td>\n",
              "      <td>the sun and her flowers</td>\n",
              "      <td>580</td>\n",
              "      <td>the year is done. i spread the past three hund...</td>\n",
              "      <td>Andrews McMeel Publishing</td>\n",
              "      <td>2017</td>\n",
              "    </tr>\n",
              "    <tr>\n",
              "      <th>580</th>\n",
              "      <td>580</td>\n",
              "      <td>the sun and her flowers</td>\n",
              "      <td>581</td>\n",
              "      <td>there is\\nnothing left\\nto worry about\\nthe su...</td>\n",
              "      <td>Andrews McMeel Publishing</td>\n",
              "      <td>2017</td>\n",
              "    </tr>\n",
              "    <tr>\n",
              "      <th>581</th>\n",
              "      <td>581</td>\n",
              "      <td>the sun and her flowers</td>\n",
              "      <td>582</td>\n",
              "      <td>and then there are days when the simple act of...</td>\n",
              "      <td>Andrews McMeel Publishing</td>\n",
              "      <td>2017</td>\n",
              "    </tr>\n",
              "  </tbody>\n",
              "</table>\n",
              "<p>582 rows × 6 columns</p>\n",
              "</div>"
            ],
            "text/plain": [
              "     index               Collection  ...                  Publisher Publish Date\n",
              "0        0           milk and honey  ...  Andrews McMeel Publishing         2014\n",
              "1        1           milk and honey  ...  Andrews McMeel Publishing         2014\n",
              "2        2           milk and honey  ...  Andrews McMeel Publishing         2014\n",
              "3        3           milk and honey  ...  Andrews McMeel Publishing         2014\n",
              "4        4           milk and honey  ...  Andrews McMeel Publishing         2014\n",
              "..     ...                      ...  ...                        ...          ...\n",
              "577    577  the sun and her flowers  ...  Andrews McMeel Publishing         2017\n",
              "578    578  the sun and her flowers  ...  Andrews McMeel Publishing         2017\n",
              "579    579  the sun and her flowers  ...  Andrews McMeel Publishing         2017\n",
              "580    580  the sun and her flowers  ...  Andrews McMeel Publishing         2017\n",
              "581    581  the sun and her flowers  ...  Andrews McMeel Publishing         2017\n",
              "\n",
              "[582 rows x 6 columns]"
            ]
          },
          "metadata": {
            "tags": []
          },
          "execution_count": 3
        }
      ]
    },
    {
      "cell_type": "code",
      "metadata": {
        "colab": {
          "base_uri": "https://localhost:8080/"
        },
        "id": "53PqVUjSDSFa",
        "outputId": "baa60211-0028-4e60-d495-670f31412029"
      },
      "source": [
        "print(df.columns)"
      ],
      "execution_count": 4,
      "outputs": [
        {
          "output_type": "stream",
          "text": [
            "Index(['Collection', 'Poem Number', 'Text', 'Publisher', 'Publish Date'], dtype='object')\n"
          ],
          "name": "stdout"
        }
      ]
    },
    {
      "cell_type": "code",
      "metadata": {
        "colab": {
          "base_uri": "https://localhost:8080/",
          "height": 419
        },
        "id": "_O3Y3hPRD210",
        "outputId": "817ddb9d-542e-4499-ec71-6ab47f411b1b"
      },
      "source": [
        "df = df.drop([\"Poem Number\"], axis=1)\n",
        "df"
      ],
      "execution_count": 5,
      "outputs": [
        {
          "output_type": "execute_result",
          "data": {
            "text/html": [
              "<div>\n",
              "<style scoped>\n",
              "    .dataframe tbody tr th:only-of-type {\n",
              "        vertical-align: middle;\n",
              "    }\n",
              "\n",
              "    .dataframe tbody tr th {\n",
              "        vertical-align: top;\n",
              "    }\n",
              "\n",
              "    .dataframe thead th {\n",
              "        text-align: right;\n",
              "    }\n",
              "</style>\n",
              "<table border=\"1\" class=\"dataframe\">\n",
              "  <thead>\n",
              "    <tr style=\"text-align: right;\">\n",
              "      <th></th>\n",
              "      <th>Collection</th>\n",
              "      <th>Text</th>\n",
              "      <th>Publisher</th>\n",
              "      <th>Publish Date</th>\n",
              "    </tr>\n",
              "  </thead>\n",
              "  <tbody>\n",
              "    <tr>\n",
              "      <th>0</th>\n",
              "      <td>milk and honey</td>\n",
              "      <td>how is it so easy for you\\nto be kind to peopl...</td>\n",
              "      <td>Andrews McMeel Publishing</td>\n",
              "      <td>2014</td>\n",
              "    </tr>\n",
              "    <tr>\n",
              "      <th>1</th>\n",
              "      <td>milk and honey</td>\n",
              "      <td>the first boy that kissed me\\nheld my shoulder...</td>\n",
              "      <td>Andrews McMeel Publishing</td>\n",
              "      <td>2014</td>\n",
              "    </tr>\n",
              "    <tr>\n",
              "      <th>2</th>\n",
              "      <td>milk and honey</td>\n",
              "      <td>it is your blood\\nin my veins\\ntell me how i’m...</td>\n",
              "      <td>Andrews McMeel Publishing</td>\n",
              "      <td>2014</td>\n",
              "    </tr>\n",
              "    <tr>\n",
              "      <th>3</th>\n",
              "      <td>milk and honey</td>\n",
              "      <td>the therapist places\\nthe doll in front of you...</td>\n",
              "      <td>Andrews McMeel Publishing</td>\n",
              "      <td>2014</td>\n",
              "    </tr>\n",
              "    <tr>\n",
              "      <th>4</th>\n",
              "      <td>milk and honey</td>\n",
              "      <td>he was supposed to be\\nthe first male love of ...</td>\n",
              "      <td>Andrews McMeel Publishing</td>\n",
              "      <td>2014</td>\n",
              "    </tr>\n",
              "    <tr>\n",
              "      <th>...</th>\n",
              "      <td>...</td>\n",
              "      <td>...</td>\n",
              "      <td>...</td>\n",
              "      <td>...</td>\n",
              "    </tr>\n",
              "    <tr>\n",
              "      <th>577</th>\n",
              "      <td>the sun and her flowers</td>\n",
              "      <td>many try\\nbut cannot tell the difference\\nbetw...</td>\n",
              "      <td>Andrews McMeel Publishing</td>\n",
              "      <td>2017</td>\n",
              "    </tr>\n",
              "    <tr>\n",
              "      <th>578</th>\n",
              "      <td>the sun and her flowers</td>\n",
              "      <td>if you have never\\nstood with the oppressed\\nt...</td>\n",
              "      <td>Andrews McMeel Publishing</td>\n",
              "      <td>2017</td>\n",
              "    </tr>\n",
              "    <tr>\n",
              "      <th>579</th>\n",
              "      <td>the sun and her flowers</td>\n",
              "      <td>the year is done. i spread the past three hund...</td>\n",
              "      <td>Andrews McMeel Publishing</td>\n",
              "      <td>2017</td>\n",
              "    </tr>\n",
              "    <tr>\n",
              "      <th>580</th>\n",
              "      <td>the sun and her flowers</td>\n",
              "      <td>there is\\nnothing left\\nto worry about\\nthe su...</td>\n",
              "      <td>Andrews McMeel Publishing</td>\n",
              "      <td>2017</td>\n",
              "    </tr>\n",
              "    <tr>\n",
              "      <th>581</th>\n",
              "      <td>the sun and her flowers</td>\n",
              "      <td>and then there are days when the simple act of...</td>\n",
              "      <td>Andrews McMeel Publishing</td>\n",
              "      <td>2017</td>\n",
              "    </tr>\n",
              "  </tbody>\n",
              "</table>\n",
              "<p>582 rows × 4 columns</p>\n",
              "</div>"
            ],
            "text/plain": [
              "                  Collection  ... Publish Date\n",
              "0             milk and honey  ...         2014\n",
              "1             milk and honey  ...         2014\n",
              "2             milk and honey  ...         2014\n",
              "3             milk and honey  ...         2014\n",
              "4             milk and honey  ...         2014\n",
              "..                       ...  ...          ...\n",
              "577  the sun and her flowers  ...         2017\n",
              "578  the sun and her flowers  ...         2017\n",
              "579  the sun and her flowers  ...         2017\n",
              "580  the sun and her flowers  ...         2017\n",
              "581  the sun and her flowers  ...         2017\n",
              "\n",
              "[582 rows x 4 columns]"
            ]
          },
          "metadata": {
            "tags": []
          },
          "execution_count": 5
        }
      ]
    },
    {
      "cell_type": "code",
      "metadata": {
        "colab": {
          "base_uri": "https://localhost:8080/"
        },
        "id": "25x-PS6UyzE3",
        "outputId": "258e171c-1a59-4cbe-9f8a-4ebd0ed6e815"
      },
      "source": [
        "\n",
        "import gensim\n",
        "from gensim.utils import simple_preprocess\n",
        "import nltk\n",
        "nltk.download('stopwords')\n",
        "from nltk.corpus import stopwords\n",
        "\n",
        "stop_words = stopwords.words('english')\n",
        "stop_words.extend(['from', 'subject', 're', 'edu', 'use'])\n",
        "\n",
        "def sent_to_words(sentences):\n",
        "    for sentence in sentences:\n",
        "        # deacc=True removes punctuations\n",
        "        yield(gensim.utils.simple_preprocess(str(sentence), deacc=True))\n",
        "\n",
        "def remove_stopwords(texts):\n",
        "    return [[word for word in simple_preprocess(str(doc)) \n",
        "             if word not in stop_words] for doc in texts]\n",
        "\n",
        "\n"
      ],
      "execution_count": 6,
      "outputs": [
        {
          "output_type": "stream",
          "text": [
            "[nltk_data] Downloading package stopwords to /root/nltk_data...\n",
            "[nltk_data]   Package stopwords is already up-to-date!\n"
          ],
          "name": "stdout"
        }
      ]
    },
    {
      "cell_type": "code",
      "metadata": {
        "colab": {
          "base_uri": "https://localhost:8080/"
        },
        "id": "6KuTgdNwIdV7",
        "outputId": "65cc040c-18d3-44b0-d6bc-9adc6f1329bf"
      },
      "source": [
        "data = df['Text'].tolist()\n",
        "data_words = list(sent_to_words(data))\n",
        "\n",
        "# remove stop words\n",
        "data_words = remove_stopwords(data_words)\n",
        "\n",
        "print(data_words[:1][0][:30])"
      ],
      "execution_count": 7,
      "outputs": [
        {
          "output_type": "stream",
          "text": [
            "['easy', 'kind', 'people', 'asked', 'milk', 'honey', 'dripped', 'lips', 'answered', 'cause', 'people', 'kind']\n"
          ],
          "name": "stdout"
        }
      ]
    },
    {
      "cell_type": "code",
      "metadata": {
        "colab": {
          "base_uri": "https://localhost:8080/"
        },
        "id": "JutWJDJ7ItvN",
        "outputId": "59c22f83-c7e1-4d69-bb70-ec7132a0bbef"
      },
      "source": [
        "import gensim.corpora as corpora\n",
        "\n",
        "# Create Dictionary\n",
        "id2word = corpora.Dictionary(data_words)\n",
        "\n",
        "# Create Corpus\n",
        "texts = data_words\n",
        "\n",
        "# Term Document Frequency\n",
        "corpus = [id2word.doc2bow(text) for text in texts]\n",
        "\n",
        "# View\n",
        "print(corpus[:1][0][:30])"
      ],
      "execution_count": 8,
      "outputs": [
        {
          "output_type": "stream",
          "text": [
            "[(0, 1), (1, 1), (2, 1), (3, 1), (4, 1), (5, 1), (6, 2), (7, 1), (8, 1), (9, 2)]\n"
          ],
          "name": "stdout"
        }
      ]
    },
    {
      "cell_type": "code",
      "metadata": {
        "colab": {
          "base_uri": "https://localhost:8080/"
        },
        "id": "rxzv7MUhIvbc",
        "outputId": "e7bae485-82e3-4ae3-a182-ff09f53abdcd"
      },
      "source": [
        "from pprint import pprint\n",
        "\n",
        "# number of topics\n",
        "num_topics = 10\n",
        "\n",
        "# Build LDA model\n",
        "lda_model = gensim.models.LdaMulticore(corpus=corpus,\n",
        "                                       id2word=id2word,\n",
        "                                       num_topics=num_topics)\n",
        "\n",
        "# Print the Keyword in the 10 topics\n",
        "pprint(lda_model.print_topics())\n",
        "doc_lda = lda_model[corpus]"
      ],
      "execution_count": 9,
      "outputs": [
        {
          "output_type": "stream",
          "text": [
            "[(0,\n",
            "  '0.023*\"love\" + 0.010*\"like\" + 0.008*\"everything\" + 0.007*\"someone\" + '\n",
            "  '0.007*\"one\" + 0.007*\"always\" + 0.006*\"look\" + 0.006*\"us\" + 0.006*\"waiting\" '\n",
            "  '+ 0.006*\"life\"'),\n",
            " (1,\n",
            "  '0.013*\"like\" + 0.010*\"one\" + 0.008*\"want\" + 0.007*\"world\" + 0.007*\"know\" + '\n",
            "  '0.007*\"nothing\" + 0.006*\"us\" + 0.006*\"life\" + 0.006*\"still\" + 0.006*\"make\"'),\n",
            " (2,\n",
            "  '0.008*\"first\" + 0.008*\"life\" + 0.008*\"home\" + 0.007*\"like\" + 0.007*\"enough\" '\n",
            "  '+ 0.006*\"body\" + 0.006*\"one\" + 0.006*\"want\" + 0.006*\"time\" + 0.005*\"hair\"'),\n",
            " (3,\n",
            "  '0.009*\"love\" + 0.008*\"us\" + 0.008*\"like\" + 0.007*\"want\" + 0.005*\"give\" + '\n",
            "  '0.005*\"body\" + 0.005*\"back\" + 0.005*\"mother\" + 0.005*\"enough\" + '\n",
            "  '0.005*\"people\"'),\n",
            " (4,\n",
            "  '0.017*\"like\" + 0.010*\"want\" + 0.008*\"body\" + 0.007*\"life\" + 0.006*\"one\" + '\n",
            "  '0.006*\"eyes\" + 0.006*\"never\" + 0.005*\"mother\" + 0.005*\"said\" + '\n",
            "  '0.005*\"home\"'),\n",
            " (5,\n",
            "  '0.012*\"like\" + 0.008*\"tell\" + 0.007*\"nothing\" + 0.007*\"us\" + 0.007*\"never\" '\n",
            "  '+ 0.006*\"days\" + 0.006*\"love\" + 0.006*\"left\" + 0.006*\"work\" + 0.005*\"one\"'),\n",
            " (6,\n",
            "  '0.010*\"love\" + 0.010*\"want\" + 0.009*\"everything\" + 0.009*\"like\" + '\n",
            "  '0.008*\"look\" + 0.008*\"time\" + 0.007*\"body\" + 0.006*\"us\" + 0.006*\"way\" + '\n",
            "  '0.005*\"know\"'),\n",
            " (7,\n",
            "  '0.021*\"love\" + 0.010*\"life\" + 0.007*\"think\" + 0.007*\"like\" + 0.007*\"way\" + '\n",
            "  '0.006*\"one\" + 0.006*\"would\" + 0.006*\"mother\" + 0.006*\"never\" + '\n",
            "  '0.006*\"make\"'),\n",
            " (8,\n",
            "  '0.014*\"like\" + 0.013*\"love\" + 0.010*\"life\" + 0.006*\"open\" + 0.006*\"time\" + '\n",
            "  '0.006*\"still\" + 0.006*\"back\" + 0.005*\"want\" + 0.005*\"people\" + '\n",
            "  '0.005*\"women\"'),\n",
            " (9,\n",
            "  '0.016*\"want\" + 0.011*\"like\" + 0.007*\"one\" + 0.007*\"us\" + 0.007*\"first\" + '\n",
            "  '0.007*\"woman\" + 0.007*\"every\" + 0.006*\"could\" + 0.006*\"life\" + '\n",
            "  '0.006*\"mother\"')]\n"
          ],
          "name": "stdout"
        }
      ]
    },
    {
      "cell_type": "code",
      "metadata": {
        "colab": {
          "base_uri": "https://localhost:8080/"
        },
        "id": "qgXmPXYFJPbO",
        "outputId": "485c1094-8e74-4aba-a7fe-172639b82602"
      },
      "source": [
        "!pip install pyLDAvis"
      ],
      "execution_count": 15,
      "outputs": [
        {
          "output_type": "stream",
          "text": [
            "Requirement already satisfied: pyLDAvis in /usr/local/lib/python3.7/dist-packages (3.3.1)\n",
            "Requirement already satisfied: joblib in /usr/local/lib/python3.7/dist-packages (from pyLDAvis) (1.0.1)\n",
            "Requirement already satisfied: setuptools in /usr/local/lib/python3.7/dist-packages (from pyLDAvis) (57.0.0)\n",
            "Requirement already satisfied: future in /usr/local/lib/python3.7/dist-packages (from pyLDAvis) (0.16.0)\n",
            "Requirement already satisfied: sklearn in /usr/local/lib/python3.7/dist-packages (from pyLDAvis) (0.0)\n",
            "Requirement already satisfied: pandas>=1.2.0 in /usr/local/lib/python3.7/dist-packages (from pyLDAvis) (1.2.4)\n",
            "Requirement already satisfied: gensim in /usr/local/lib/python3.7/dist-packages (from pyLDAvis) (3.6.0)\n",
            "Requirement already satisfied: numexpr in /usr/local/lib/python3.7/dist-packages (from pyLDAvis) (2.7.3)\n",
            "Requirement already satisfied: scipy in /usr/local/lib/python3.7/dist-packages (from pyLDAvis) (1.4.1)\n",
            "Requirement already satisfied: funcy in /usr/local/lib/python3.7/dist-packages (from pyLDAvis) (1.16)\n",
            "Requirement already satisfied: numpy>=1.20.0 in /usr/local/lib/python3.7/dist-packages (from pyLDAvis) (1.20.3)\n",
            "Requirement already satisfied: scikit-learn in /usr/local/lib/python3.7/dist-packages (from pyLDAvis) (0.22.2.post1)\n",
            "Requirement already satisfied: jinja2 in /usr/local/lib/python3.7/dist-packages (from pyLDAvis) (2.11.3)\n",
            "Requirement already satisfied: python-dateutil>=2.7.3 in /usr/local/lib/python3.7/dist-packages (from pandas>=1.2.0->pyLDAvis) (2.8.1)\n",
            "Requirement already satisfied: pytz>=2017.3 in /usr/local/lib/python3.7/dist-packages (from pandas>=1.2.0->pyLDAvis) (2018.9)\n",
            "Requirement already satisfied: six>=1.5.0 in /usr/local/lib/python3.7/dist-packages (from gensim->pyLDAvis) (1.15.0)\n",
            "Requirement already satisfied: smart-open>=1.2.1 in /usr/local/lib/python3.7/dist-packages (from gensim->pyLDAvis) (5.0.0)\n",
            "Requirement already satisfied: MarkupSafe>=0.23 in /usr/local/lib/python3.7/dist-packages (from jinja2->pyLDAvis) (2.0.1)\n"
          ],
          "name": "stdout"
        }
      ]
    },
    {
      "cell_type": "code",
      "metadata": {
        "id": "5RiXFI33I3L4"
      },
      "source": [
        "import pickle \n",
        "import pyLDAvis\n",
        "\n",
        "# Visualize the topics\n",
        "pyLDAvis.enable_notebook()\n",
        "\n"
      ],
      "execution_count": 20,
      "outputs": []
    },
    {
      "cell_type": "markdown",
      "metadata": {
        "id": "5F47FDrEKvb8"
      },
      "source": [
        "I stopped here"
      ]
    },
    {
      "cell_type": "markdown",
      "metadata": {
        "id": "Jer81uzUKyBa"
      },
      "source": [
        ""
      ]
    }
  ]
}